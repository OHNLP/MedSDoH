{
 "cells": [
  {
   "cell_type": "code",
   "execution_count": 5,
   "metadata": {},
   "outputs": [],
   "source": [
    "from pathlib import Path\n",
    "import pandas as pd\n",
    "pd.set_option('display.max_columns', None)\n",
    "pd.set_option('display.max_rows', None)\n",
    "\n",
    "from med_sdoh.evaluate import Corpus, Evaluation\n",
    "\n",
    "\n",
    "data_dir = \"../data/performance_measure\"\n",
    "model_corpus = Corpus(data_dir + \"/model_annotation\")\n",
    "gold_standard_corpus = Corpus(data_dir + \"/human_annotation\")\n",
    "schema_path = \"../models/MedSDoH/schema.dtd\"\n",
    "\n",
    "excluded_concepts = [\n",
    "    \"Sex_At_Birth\",\n",
    "    \"Race_or_Ethnicity\",\n",
    "    \"Sexual_Orientation\",\n",
    "    \"Marital_Status\",\n",
    "]  # these concepts are not included in the evaluation"
   ]
  },
  {
   "cell_type": "code",
   "execution_count": null,
   "metadata": {},
   "outputs": [],
   "source": [
    "# Get evaluation results\n",
    "eval = Evaluation(\n",
    "    model_corpus,\n",
    "    gold_standard_corpus,\n",
    "    schema_path,\n",
    "    overlap_ratio=0.1,\n",
    "    excluded_concepts=excluded_concepts,\n",
    ")\n",
    "\n",
    "print(eval.micro_avg)\n",
    "\n",
    "eval.macro_avg"
   ]
  },
  {
   "cell_type": "code",
   "execution_count": 5,
   "metadata": {},
   "outputs": [],
   "source": [
    "# Print all erros\n",
    "eval.errors "
   ]
  }
 ],
 "metadata": {
  "kernelspec": {
   "display_name": "med_sdoh",
   "language": "python",
   "name": "python3"
  },
  "language_info": {
   "codemirror_mode": {
    "name": "ipython",
    "version": 3
   },
   "file_extension": ".py",
   "mimetype": "text/x-python",
   "name": "python",
   "nbconvert_exporter": "python",
   "pygments_lexer": "ipython3",
   "version": "3.13.2"
  }
 },
 "nbformat": 4,
 "nbformat_minor": 2
}
