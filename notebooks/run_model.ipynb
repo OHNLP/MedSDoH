{
  "cells": [
    {
      "cell_type": "markdown",
      "metadata": {},
      "source": [
        "### Run the code in a virtual environment\n",
        "    \n",
        "```bash\n",
        "conda env create -f environment.yml\n",
        "```"
      ]
    },
    {
      "cell_type": "code",
      "execution_count": 2,
      "metadata": {},
      "outputs": [],
      "source": [
        "from med_sdoh import model\n",
        "import pandas as pd\n",
        "pd.set_option('display.max_colwidth', None)\n",
        "\n",
        "# Set data directories\n",
        "INPUT_DIR = \"../data/interim/input\"\n",
        "ANNOTATION_DIR = \"../data/interim/output\"\n",
        "MODEL_DIR = \"../models/MedSDoH\"\n",
        "# Load MedTagger class\n",
        "medtagger = model.MedTagger(input_dir=INPUT_DIR, annotation_dir=ANNOTATION_DIR, model_dir=MODEL_DIR)"
      ]
    },
    {
      "cell_type": "markdown",
      "metadata": {},
      "source": [
        "### Run the model"
      ]
    },
    {
      "cell_type": "code",
      "execution_count": 10,
      "metadata": {},
      "outputs": [],
      "source": [
        "medtagger.run_medtagger()"
      ]
    },
    {
      "cell_type": "markdown",
      "metadata": {},
      "source": [
        "### Load annotation results"
      ]
    },
    {
      "cell_type": "code",
      "execution_count": 11,
      "metadata": {},
      "outputs": [],
      "source": [
        "medtagger.annotation_files "
      ]
    },
    {
      "cell_type": "markdown",
      "metadata": {},
      "source": [
        "### Save the annotation summary into a csv file"
      ]
    },
    {
      "cell_type": "code",
      "execution_count": 16,
      "metadata": {},
      "outputs": [],
      "source": [
        "df = medtagger.get_annotation_summary(summary_output_dir=\"../reports\")\n",
        "df"
      ]
    },
    {
      "cell_type": "markdown",
      "metadata": {},
      "source": [
        "### Save XML files for MedTator"
      ]
    },
    {
      "cell_type": "code",
      "execution_count": 13,
      "metadata": {},
      "outputs": [],
      "source": [
        "medtagger.create_combined_xml()"
      ]
    },
    {
      "cell_type": "markdown",
      "metadata": {},
      "source": [
        "### Purge all annotated data"
      ]
    },
    {
      "cell_type": "code",
      "execution_count": 14,
      "metadata": {},
      "outputs": [],
      "source": [
        "medtagger.purge_data(xml_files=True)"
      ]
    }
  ],
  "metadata": {
    "kernelspec": {
      "display_name": "sdoh_tagger",
      "language": "python",
      "name": "python3"
    },
    "language_info": {
      "codemirror_mode": {
        "name": "ipython",
        "version": 3
      },
      "file_extension": ".py",
      "mimetype": "text/x-python",
      "name": "python",
      "nbconvert_exporter": "python",
      "pygments_lexer": "ipython3",
      "version": "3.13.1"
    }
  },
  "nbformat": 4,
  "nbformat_minor": 2
}
